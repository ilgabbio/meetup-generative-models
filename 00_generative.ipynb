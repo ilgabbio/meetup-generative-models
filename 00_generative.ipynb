{
 "cells": [
  {
   "cell_type": "markdown",
   "id": "8872047f",
   "metadata": {},
   "source": [
    "# Discriminative VS generative models\n",
    "\n",
    "Let's consider a __classification task__:"
   ]
  },
  {
   "cell_type": "code",
   "execution_count": 1,
   "id": "d9bc8bf5",
   "metadata": {},
   "outputs": [
    {
     "data": {
      "image/png": "[encoded data removed]",
      "text/plain": [
       "<Figure size 432x288 with 1 Axes>"
      ]
     },
     "metadata": {
      "needs_background": "light"
     },
     "output_type": "display_data"
    }
   ],
   "source": [
    "from matplotlib import pyplot as plt\n",
    "# %matplotlib notebook\n",
    "import numpy as np\n",
    "from numpy.random import normal as randn\n",
    "\n",
    "# Unbalanced classification problem:\n",
    "x1 = randn(size=(10,))/2-1\n",
    "x2 = randn(size=(50,))+2\n",
    "plt.scatter(x1,np.zeros(x1.shape),c='b')\n",
    "plt.scatter(x2,np.zeros(x2.shape),c='r')\n",
    "plt.title('Classification task')\n",
    "plt.show();"
   ]
  },
  {
   "cell_type": "markdown",
   "id": "2d9bd27f",
   "metadata": {},
   "source": [
    "In the probabilistic framework, this problem can be faced at least in 2 ways:\n",
    "\n",
    "- discriminative: given the data find the __labels probability__;\n",
    "- generative: given a label __how much likely__ are the data?"
   ]
  },
  {
   "cell_type": "code",
   "execution_count": 2,
   "id": "8396701f",
   "metadata": {},
   "outputs": [
    {
     "data": {
      "image/png": "[encoded data removed]",
      "text/plain": [
       "<Figure size 432x288 with 1 Axes>"
      ]
     },
     "metadata": {
      "needs_background": "light"
     },
     "output_type": "display_data"
    }
   ],
   "source": [
    "from sklearn.linear_model import LogisticRegression\n",
    "\n",
    "# Discriminative model:\n",
    "samples = np.concatenate([x1,x2]).reshape(-1,1)\n",
    "classification = np.concatenate([np.zeros(x1.shape), np.ones(x2.shape)])\n",
    "model = LogisticRegression().fit(samples,classification)\n",
    "\n",
    "plt.scatter(x1,np.zeros(x1.shape),c='b')\n",
    "plt.scatter(x2,np.ones(x2.shape),c='r')\n",
    "x = np.linspace(min(samples),max(samples),100)\n",
    "plt.plot(x,model.predict(x))\n",
    "plt.title('Discriminative approach')\n",
    "plt.show()"
   ]
  },
  {
   "cell_type": "code",
   "execution_count": 3,
   "id": "1d190046",
   "metadata": {},
   "outputs": [
    {
     "data": {
      "image/png": "[encoded data removed]",
      "text/plain": [
       "<Figure size 432x288 with 1 Axes>"
      ]
     },
     "metadata": {
      "needs_background": "light"
     },
     "output_type": "display_data"
    }
   ],
   "source": [
    "from scipy.stats import norm\n",
    "\n",
    "# Generative model:\n",
    "mu1 = x1.mean()\n",
    "sigma1 = x1.std()\n",
    "mu2 = x2.mean()\n",
    "sigma2 = x2.std()\n",
    "\n",
    "\n",
    "plt.scatter(x1,np.zeros(x1.shape),c='b')\n",
    "plt.plot(x,norm.pdf(x,mu1,sigma1),c='b')\n",
    "plt.scatter(x2,np.ones(x2.shape),c='r')\n",
    "plt.plot(x,norm.pdf(x,mu2,sigma2),c='r')\n",
    "plt.title('Discriminative approach')\n",
    "plt.show()"
   ]
  },
  {
   "cell_type": "markdown",
   "id": "4ac3aafc",
   "metadata": {},
   "source": [
    "## Latent variables\n",
    "\n",
    "Assume the labels $h$ describe the structure of data:\n",
    "    \n",
    "> __consider $h$ as unobservable random variables (hidden causes) inducing observable outcomes $x$__\n",
    "\n",
    "Inference of the hidden variables $h$ given the outcome $x$, by chain rule the following are equivalent:\n",
    "\n",
    "$$\\large\n",
    "p(h|x)p(x) = p(x|h)p(h)\n",
    "$$\n",
    "\n",
    "This means that given $x$ we can estimate $h$ directly with: $\\large p(h|x)$.\n",
    "\n",
    "Another possibility is to estimate $h$ by:\n",
    "\n",
    "- maximizing the posterior $\\large p(x|h)p(h)$;\n",
    "- maximizing the likelihood of data $\\large p(x|h)$ (if $p(h)$ is uninformative).\n",
    "\n",
    "The two expressions can be represented as graphical models as follows:"
   ]
  },
  {
   "cell_type": "code",
   "execution_count": 4,
   "id": "262280bc",
   "metadata": {},
   "outputs": [
    {
     "data": {
      "text/latex": [
       "Direct modeling: $\\large arg\\max_hp(h|x)p(x)$"
      ],
      "text/plain": [
       "<IPython.core.display.Latex object>"
      ]
     },
     "metadata": {},
     "output_type": "display_data"
    },
    {
     "data": {
      "image/svg+xml": [
       "<?xml version=\"1.0\" encoding=\"UTF-8\" standalone=\"no\"?>\n",
       "<!DOCTYPE svg PUBLIC \"-//W3C//DTD SVG 1.1//EN\"\n",
       " \"http://www.w3.org/Graphics/SVG/1.1/DTD/svg11.dtd\">\n",
       "<!-- Generated by graphviz version 2.47.1 (20210417.1919)\n",
       " -->\n",
       "<!-- Title: data Pages: 1 -->\n",
       "<svg width=\"62pt\" height=\"116pt\"\n",
       " viewBox=\"0.00 0.00 62.00 116.00\" xmlns=\"http://www.w3.org/2000/svg\" xmlns:xlink=\"http://www.w3.org/1999/xlink\">\n",
       "<g id=\"graph0\" class=\"graph\" transform=\"scale(1 1) rotate(0) translate(4 112)\">\n",
       "<title>data</title>\n",
       "<polygon fill=\"white\" stroke=\"transparent\" points=\"-4,4 -4,-112 58,-112 58,4 -4,4\"/>\n",
       "<!-- h -->\n",
       "<g id=\"node1\" class=\"node\">\n",
       "<title>h</title>\n",
       "<ellipse fill=\"gray\" stroke=\"black\" cx=\"27\" cy=\"-18\" rx=\"27\" ry=\"18\"/>\n",
       "<text text-anchor=\"middle\" x=\"27\" y=\"-14.3\" font-family=\"Times,serif\" font-size=\"14.00\">h</text>\n",
       "</g>\n",
       "<!-- x -->\n",
       "<g id=\"node2\" class=\"node\">\n",
       "<title>x</title>\n",
       "<ellipse fill=\"none\" stroke=\"black\" cx=\"27\" cy=\"-90\" rx=\"27\" ry=\"18\"/>\n",
       "<text text-anchor=\"middle\" x=\"27\" y=\"-86.3\" font-family=\"Times,serif\" font-size=\"14.00\">x</text>\n",
       "</g>\n",
       "<!-- x&#45;&gt;h -->\n",
       "<g id=\"edge1\" class=\"edge\">\n",
       "<title>x&#45;&gt;h</title>\n",
       "<path fill=\"none\" stroke=\"black\" d=\"M27,-71.7C27,-63.98 27,-54.71 27,-46.11\"/>\n",
       "<polygon fill=\"black\" stroke=\"black\" points=\"30.5,-46.1 27,-36.1 23.5,-46.1 30.5,-46.1\"/>\n",
       "</g>\n",
       "</g>\n",
       "</svg>\n"
      ],
      "text/plain": [
       "<graphviz.files.Source at 0x128e1f820>"
      ]
     },
     "metadata": {},
     "output_type": "display_data"
    },
    {
     "data": {
      "text/latex": [
       "A-posteriori estimation maximizing: $\\large arg\\max_hp(x|h)p(h)$"
      ],
      "text/plain": [
       "<IPython.core.display.Latex object>"
      ]
     },
     "metadata": {},
     "output_type": "display_data"
    },
    {
     "data": {
      "image/svg+xml": [
       "<?xml version=\"1.0\" encoding=\"UTF-8\" standalone=\"no\"?>\n",
       "<!DOCTYPE svg PUBLIC \"-//W3C//DTD SVG 1.1//EN\"\n",
       " \"http://www.w3.org/Graphics/SVG/1.1/DTD/svg11.dtd\">\n",
       "<!-- Generated by graphviz version 2.47.1 (20210417.1919)\n",
       " -->\n",
       "<!-- Title: data Pages: 1 -->\n",
       "<svg width=\"62pt\" height=\"116pt\"\n",
       " viewBox=\"0.00 0.00 62.00 116.00\" xmlns=\"http://www.w3.org/2000/svg\" xmlns:xlink=\"http://www.w3.org/1999/xlink\">\n",
       "<g id=\"graph0\" class=\"graph\" transform=\"scale(1 1) rotate(0) translate(4 112)\">\n",
       "<title>data</title>\n",
       "<polygon fill=\"white\" stroke=\"transparent\" points=\"-4,4 -4,-112 58,-112 58,4 -4,4\"/>\n",
       "<!-- h -->\n",
       "<g id=\"node1\" class=\"node\">\n",
       "<title>h</title>\n",
       "<ellipse fill=\"gray\" stroke=\"black\" cx=\"27\" cy=\"-90\" rx=\"27\" ry=\"18\"/>\n",
       "<text text-anchor=\"middle\" x=\"27\" y=\"-86.3\" font-family=\"Times,serif\" font-size=\"14.00\">h</text>\n",
       "</g>\n",
       "<!-- x -->\n",
       "<g id=\"node2\" class=\"node\">\n",
       "<title>x</title>\n",
       "<ellipse fill=\"none\" stroke=\"black\" cx=\"27\" cy=\"-18\" rx=\"27\" ry=\"18\"/>\n",
       "<text text-anchor=\"middle\" x=\"27\" y=\"-14.3\" font-family=\"Times,serif\" font-size=\"14.00\">x</text>\n",
       "</g>\n",
       "<!-- h&#45;&gt;x -->\n",
       "<g id=\"edge1\" class=\"edge\">\n",
       "<title>h&#45;&gt;x</title>\n",
       "<path fill=\"none\" stroke=\"black\" d=\"M27,-71.7C27,-63.98 27,-54.71 27,-46.11\"/>\n",
       "<polygon fill=\"black\" stroke=\"black\" points=\"30.5,-46.1 27,-36.1 23.5,-46.1 30.5,-46.1\"/>\n",
       "</g>\n",
       "</g>\n",
       "</svg>\n"
      ],
      "text/plain": [
       "<graphviz.files.Source at 0x128e1fac0>"
      ]
     },
     "metadata": {},
     "output_type": "display_data"
    }
   ],
   "source": [
    "from visualization import graph\n",
    "\n",
    "base = \"h[style=filled,fillcolor=gray]\\n\"\n",
    "graph(f\"{base}x->h\", title=\"Direct modeling: $\\large arg\\max_hp(h|x)p(x)$\")\n",
    "graph(f\"{base}h->x\", title=\"A-posteriori estimation maximizing: $\\large arg\\max_hp(x|h)p(h)$\")"
   ]
  },
  {
   "cell_type": "markdown",
   "id": "b94a0df8",
   "metadata": {},
   "source": [
    "In the latter case no $p(x)$ must be estimated, generally being that pdf the intractable one."
   ]
  },
  {
   "cell_type": "markdown",
   "id": "e60b32ad",
   "metadata": {},
   "source": [
    "## Direct $p(h|x)$ estimation: discriminative models\n",
    "\n",
    "Naive Bayes: $\\large p(h|x)=\\prod_i{p(h_i|x)}$\n",
    "\n",
    "We can estimate the (simpler) $p(h_i|x)$ (eg. in tabular form).\n",
    "\n",
    "Given an $x$, choose the combination of $h_i$ maximizing $p(h|x)$.\n",
    "\n",
    "Practical example: classification (only one $h_i$ to 1, the remaining to 0).\n",
    "\n",
    "__This approach allows discrimination only__"
   ]
  },
  {
   "cell_type": "markdown",
   "id": "edfde3f2",
   "metadata": {},
   "source": [
    "## Maximum likelihood $p(x|h)$ estimation: generative models\n",
    "\n",
    "PPCA: $\\large x = Wh + \\mu + \\sigma$  \n",
    "where $\\sigma \\sim \\mathcal{N}$\n",
    "\n",
    "A stochastic recipe to compute $x$ given $h$ is defined by the model.\n",
    "\n",
    "__This approach allows both discrimination and generation__."
   ]
  },
  {
   "cell_type": "markdown",
   "id": "e2ced32c",
   "metadata": {},
   "source": [
    "## Example: PCA on faces"
   ]
  },
  {
   "cell_type": "code",
   "execution_count": 5,
   "id": "2ca1e0cf",
   "metadata": {},
   "outputs": [],
   "source": [
    "import numpy as np\n",
    "import pandas as pd\n",
    "\n",
    "# Load data (from https://github.com/daradecic/Python-Eigenfaces):\n",
    "faces = pd.read_csv('data/face_data.csv.gz')\n",
    "faces = faces.drop('target',axis=1)\n",
    "faces = np.array(faces)"
   ]
  },
  {
   "cell_type": "code",
   "execution_count": 6,
   "id": "37c7c195",
   "metadata": {},
   "outputs": [
    {
     "data": {
      "image/png": "[encoded data removed]",
      "text/plain": [
       "<Figure size 432x288 with 1 Axes>"
      ]
     },
     "metadata": {
      "needs_background": "light"
     },
     "output_type": "display_data"
    }
   ],
   "source": [
    "from matplotlib import pyplot as plt\n",
    "\n",
    "def plot_face(face):\n",
    "    plt.figure()\n",
    "    plt.imshow(face.reshape(64, 64), cmap='gray')\n",
    "    plt.show()\n",
    "\n",
    "plot_face(faces[0])"
   ]
  },
  {
   "cell_type": "code",
   "execution_count": 10,
   "id": "a5c5fe93",
   "metadata": {},
   "outputs": [],
   "source": [
    "from sklearn.decomposition import PCA\n",
    "\n",
    "# Computing the PCA of images:\n",
    "pca = PCA(n_components=100).fit(faces)\n",
    "latent = pca.transform(faces)"
   ]
  },
  {
   "cell_type": "code",
   "execution_count": 11,
   "id": "92424e5b",
   "metadata": {},
   "outputs": [
    {
     "data": {
      "image/png": "[encoded data removed]",
      "text/plain": [
       "<Figure size 432x288 with 1 Axes>"
      ]
     },
     "metadata": {
      "needs_background": "light"
     },
     "output_type": "display_data"
    }
   ],
   "source": [
    "# Reconstructing a face:\n",
    "def reconstruct_face(latent):\n",
    "    return pca.inverse_transform(latent)\n",
    "\n",
    "def plot_reconstructed_face(latent):\n",
    "    plot_face(reconstruct_face(latent))\n",
    "\n",
    "plot_reconstructed_face(latent[0])"
   ]
  },
  {
   "cell_type": "code",
   "execution_count": 13,
   "id": "5c2e0652",
   "metadata": {},
   "outputs": [
    {
     "data": {
      "application/vnd.jupyter.widget-view+json": {
       "model_id": "1711d55369764aec988ecfc39f347103",
       "version_major": 2,
       "version_minor": 0
      },
      "text/plain": [
       "interactive(children=(FloatSlider(value=0.0, description='v0', max=10.0, min=-10.0, step=1.0), FloatSlider(val…"
      ]
     },
     "metadata": {},
     "output_type": "display_data"
    }
   ],
   "source": [
    "from visualization import interact_vector\n",
    "\n",
    "# Synthesis of new faces:\n",
    "def plot_new_face(v):\n",
    "    # Mean and modified face:\n",
    "    n = latent.shape[1]\n",
    "    h = np.zeros((n,))\n",
    "    f_mean = reconstruct_face(h)\n",
    "    h[0:len(v)] = v\n",
    "    f_mod = reconstruct_face(h)\n",
    "    \n",
    "    # Plotting both:\n",
    "    _, axes = plt.subplots(1, 2, figsize=(8, 16))\n",
    "    fs = [f_mean,f_mod]\n",
    "    for i in range(2):\n",
    "        axes[i].imshow(fs[i].reshape(64, 64), cmap='gray')\n",
    "    plt.show()\n",
    "    print(\"v:\",h)\n",
    "\n",
    "# Interactive face reconstruction:\n",
    "interact_vector(\"v\", 10, plot_new_face, min=-10, max=10, step=1);"
   ]
  }
 ],
 "metadata": {
  "kernelspec": {
   "display_name": "Python 3",
   "language": "python",
   "name": "python3"
  },
  "language_info": {
   "codemirror_mode": {
    "name": "ipython",
    "version": 3
   },
   "file_extension": ".py",
   "mimetype": "text/x-python",
   "name": "python",
   "nbconvert_exporter": "python",
   "pygments_lexer": "ipython3",
   "version": "3.8.9"
  }
 },
 "nbformat": 4,
 "nbformat_minor": 5
}
