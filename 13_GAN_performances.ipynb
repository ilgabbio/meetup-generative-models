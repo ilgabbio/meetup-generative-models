{
 "cells": [
  {
   "cell_type": "markdown",
   "id": "0f6a16f4",
   "metadata": {},
   "source": [
    "# GAN convergence & performances\n",
    "\n",
    "GANs are a __two players game__:\n",
    "\n",
    "- Convergence reaches a __Nash equilibrium__?\n",
    "- Can we evaluate GAN performances?\n",
    "\n",
    "## GAN convergence\n",
    "\n",
    "__Do GANs have a Nash equilibrium point?__\n",
    "\n",
    "> _Nash equilibrium_: no player can increase his payoff by changing \"strategy\".\n",
    "\n",
    "[GANs Trained by a Two Time-Scale Update Rule Converge to a Local Nash Equilibrium](https://arxiv.org/pdf/1706.08500.pdf)\n",
    "\n",
    "[Which Training Methods for GANs do actually Converge?](https://arxiv.org/pdf/1801.04406.pdf)\n",
    "\n",
    "[GANs May Have No Nash Equilibria](https://arxiv.org/pdf/2002.09124.pdf)\n",
    "\n",
    "_Many other papers on this topic._\n",
    "\n",
    "## GAN performances\n",
    "\n",
    "The following paper:\n",
    "\n",
    "[GANs Trained by a Two Time-Scale Update Rule Converge to a Local Nash Equilibrium](https://arxiv.org/pdf/1706.08500.pdf)\n",
    "\n",
    "introduced also the \"Fréchet Inception Distance\" (FID) as a GAN metric."
   ]
  }
 ],
 "metadata": {
  "kernelspec": {
   "display_name": "Python 3",
   "language": "python",
   "name": "python3"
  },
  "language_info": {
   "codemirror_mode": {
    "name": "ipython",
    "version": 3
   },
   "file_extension": ".py",
   "mimetype": "text/x-python",
   "name": "python",
   "nbconvert_exporter": "python",
   "pygments_lexer": "ipython3",
   "version": "3.8.9"
  }
 },
 "nbformat": 4,
 "nbformat_minor": 5
}
