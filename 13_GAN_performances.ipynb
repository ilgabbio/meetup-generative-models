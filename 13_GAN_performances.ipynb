{
 "cells": [
  {
   "cell_type": "markdown",
   "id": "95d1aa97",
   "metadata": {},
   "source": [
    "# GAN performances & convergence\n",
    "\n",
    "- Can we evaluate GAN performances?\n",
    "- Convergence reaches a __Nash equilibrium__?"
   ]
  },
  {
   "cell_type": "markdown",
   "id": "0f6a16f4",
   "metadata": {},
   "source": [
    "## GAN performances\n",
    "\n",
    "In [\"Improved Techniques for Training GANs\"](https://arxiv.org/abs/1606.03498) the __inception score__ is introduced.\n",
    "\n",
    "Considerations:\n",
    "\n",
    "- Classification of __real objects shows low entropy__ on label probabilities: $\\mathbb{H}(p(l|x))$.\n",
    "- Classes of a generated batch of images $\\mathcal{X}$ must be __close to the prior__ $p(l)$.\n",
    "\n",
    "The tool:\n",
    "\n",
    "- use an inception net to classify the images;\n",
    "- compute $\\large IS(\\mathcal{X}) = \\exp\\mathbb{E}_{x\\sim\\mathcal{X}}[KL(p(l|x)||p(l))]$\n",
    "\n",
    "This metric is based on statistics of the ImageNet dataset, not real images.\n",
    "\n",
    "To overcome this drawback, the following paper:\n",
    "\n",
    "[GANs Trained by a Two Time-Scale Update Rule Converge to a Local Nash Equilibrium](https://arxiv.org/pdf/1706.08500.pdf)\n",
    "\n",
    "introduced the \"Fréchet Inception Distance\" (FID).\n",
    "\n",
    "Considerations:\n",
    "\n",
    "- Being $p_r$ and $p_g$ the real and generated image distributions, we wish to make them equal.\n",
    "- Class-conditioned inception embeddings can be assumed normally distributed (for this task).\n",
    "- normal distributions $\\mathcal{N}_r(\\cdot;\\mu_r,\\Sigma_r)$ and $\\mathcal{N}_g(\\cdot;\\mu_g,\\Sigma_g)$ must be compared;\n",
    "- a distance measure is the _Fréchet distance_:  \n",
    "  $$\\large\n",
    "  d^2(\\mathcal{N}_r,\\mathcal{N}_g) = \n",
    "      \\|\\mu_r-\\mu_g\\|^2 + \n",
    "      Trace(\\Sigma_r + \\Sigma_g - 2(\\Sigma_r\\Sigma_g)^{1/2})\n",
    "  $$"
   ]
  },
  {
   "cell_type": "markdown",
   "id": "3e76acd2",
   "metadata": {},
   "source": [
    "## GAN convergence\n",
    "\n",
    "__Do GANs have a Nash equilibrium point?__\n",
    "\n",
    "> _Nash equilibrium_: no player can increase his payoff by changing \"strategy\".\n",
    "\n",
    "First main paper on this topic:\n",
    "\n",
    "[GANs Trained by a Two Time-Scale Update Rule Converge to a Local Nash Equilibrium](https://arxiv.org/pdf/1706.08500.pdf)\n",
    "\n",
    "_Many other papers on this topic._\n",
    "\n",
    "Convergence in GAN training is not obvious:\n",
    "\n",
    "[Which Training Methods for GANs do actually Converge?](https://arxiv.org/pdf/1801.04406.pdf)\n",
    "\n",
    "A target convergence point may not exist at all:\n",
    "\n",
    "[GANs May Have No Nash Equilibria](https://arxiv.org/pdf/2002.09124.pdf)"
   ]
  }
 ],
 "metadata": {
  "kernelspec": {
   "display_name": "Python 3",
   "language": "python",
   "name": "python3"
  },
  "language_info": {
   "codemirror_mode": {
    "name": "ipython",
    "version": 3
   },
   "file_extension": ".py",
   "mimetype": "text/x-python",
   "name": "python",
   "nbconvert_exporter": "python",
   "pygments_lexer": "ipython3",
   "version": "3.8.9"
  }
 },
 "nbformat": 4,
 "nbformat_minor": 5
}
