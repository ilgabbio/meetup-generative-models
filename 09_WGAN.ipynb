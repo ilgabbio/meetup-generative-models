{
 "cells": [
  {
   "cell_type": "markdown",
   "id": "8da3f2c1",
   "metadata": {},
   "source": [
    "# Wasserstein GAN (WGAN)\n",
    "\n",
    "Problem: __instability of GAN training__."
   ]
  },
  {
   "cell_type": "markdown",
   "id": "6a8206a4",
   "metadata": {},
   "source": [
    "## Motivation\n",
    "\n",
    "GAN training is __unstable__.\n",
    "\n",
    "Main cause is that:\n",
    "_GAN is based in __KL-divergence__ and __JS-divergence__, those have gradient issues._"
   ]
  },
  {
   "cell_type": "markdown",
   "id": "49775e2b",
   "metadata": {},
   "source": [
    "## Improvements on WGAN\n",
    "\n",
    "- "
   ]
  }
 ],
 "metadata": {
  "kernelspec": {
   "display_name": "Python 3",
   "language": "python",
   "name": "python3"
  },
  "language_info": {
   "codemirror_mode": {
    "name": "ipython",
    "version": 3
   },
   "file_extension": ".py",
   "mimetype": "text/x-python",
   "name": "python",
   "nbconvert_exporter": "python",
   "pygments_lexer": "ipython3",
   "version": "3.8.9"
  }
 },
 "nbformat": 4,
 "nbformat_minor": 5
}
