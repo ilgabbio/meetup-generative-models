{
 "cells": [
  {
   "cell_type": "markdown",
   "id": "e9e24b60",
   "metadata": {},
   "source": [
    "# GAN architectures\n",
    "\n",
    "<img src=\"images/GANsnRoses.png\" width=\"200pt\"/>\n",
    "\n",
    "\n",
    "## [Conditional GAN](https://arxiv.org/abs/1411.1784) (Nov 2014)\n",
    "\n",
    "<img src=\"images/cGAN.png\" width=\"600pt\"/>\n",
    "\n",
    "## [Progressive GAN](https://arxiv.org/abs/1710.10196) (Feb 2018)\n",
    "\n",
    "<img src=\"images/ProGAN_grow.webp\" width=\"600pt\"/>\n",
    "\n",
    "<img src=\"images/ProGAN_blend.png\" width=\"600pt\"/>\n",
    "\n",
    "## [Pix2pix](https://arxiv.org/abs/1611.07004) (Nov 2018)\n",
    "\n",
    "<img src=\"images/example_pix2pix.jpg\" width=\"750pt\"/>\n",
    "\n",
    "<img src=\"images/pix2pix.png\" width=\"750pt\"/>\n",
    "\n",
    "The generator must __transform images__, this is a U-Net task:\n",
    "\n",
    "<img src=\"images/pix2pix_unet.png\" width=\"750pt\"/>\n",
    "\n",
    "## [Style GAN](https://arxiv.org/abs/1812.04948) (Mar 2019)\n",
    "\n",
    "<img src=\"images/StyleGAN.png\" width=\"600pt\"/>\n",
    "\n",
    "## [Style GAN 2](https://arxiv.org/abs/1912.04958) (Mar 2020)\n",
    "\n",
    "<img src=\"images/StyleGAN_issues.gif\" width=\"600pt\"/>\n",
    "\n",
    "<img src=\"images/StyleGAN2_droplets.png\" width=\"600pt\"/>\n",
    "\n",
    "<img src=\"images/StyleGAN2.png\" width=\"750pt\"/>\n",
    "\n",
    "## [Cycle GAN](https://arxiv.org/abs/1703.10593) (Aug 2020)\n",
    "\n",
    "<img src=\"images/example_zebra.gif\" width=\"750pt\"/>\n",
    "\n",
    "<img src=\"images/CycleGAN_generator_task.png\" width=\"600pt\"/>\n",
    "\n",
    "<img src=\"images/CycleGAN.png\" width=\"600pt\"/>\n",
    "\n",
    "## [Style GAN 2 ADA](https://arxiv.org/abs/2006.06676) (Oct 2020)\n",
    "\n",
    "<img src=\"images/StyleGAN2-ADA.png\" width=\"750pt\"/>\n"
   ]
  }
 ],
 "metadata": {
  "kernelspec": {
   "display_name": "Python 3",
   "language": "python",
   "name": "python3"
  },
  "language_info": {
   "codemirror_mode": {
    "name": "ipython",
    "version": 3
   },
   "file_extension": ".py",
   "mimetype": "text/x-python",
   "name": "python",
   "nbconvert_exporter": "python",
   "pygments_lexer": "ipython3",
   "version": "3.8.9"
  }
 },
 "nbformat": 4,
 "nbformat_minor": 5
}
